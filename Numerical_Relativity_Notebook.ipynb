{
  "nbformat": 4,
  "nbformat_minor": 0,
  "metadata": {
    "colab": {
      "provenance": [],
      "authorship_tag": "ABX9TyPjvtr3ll1DJpbf1ntx7W46",
      "include_colab_link": true
    },
    "kernelspec": {
      "name": "python3",
      "display_name": "Python 3"
    },
    "language_info": {
      "name": "python"
    }
  },
  "cells": [
    {
      "cell_type": "markdown",
      "metadata": {
        "id": "view-in-github",
        "colab_type": "text"
      },
      "source": [
        "<a href=\"https://colab.research.google.com/github/quasar-in-the-mist/Numerical-Relativity/blob/main/Numerical_Relativity_Notebook.ipynb\" target=\"_parent\"><img src=\"https://colab.research.google.com/assets/colab-badge.svg\" alt=\"Open In Colab\"/></a>"
      ]
    },
    {
      "cell_type": "code",
      "execution_count": 2,
      "metadata": {
        "id": "UEfjnYgJWKCa"
      },
      "outputs": [],
      "source": [
        "#BLACK HOLE INSPIRAL//NUMERICAL RELATIVITY\n",
        "import numpy as np\n",
        "\n",
        "\n",
        "#DERIVATIVES AND LATTICE\n",
        "\n",
        "Nx, Ny, Nz = 50, 50, 50 # number of points in each dimension\n",
        "dx = dy = dz = 0.1 # lattice spacings\n",
        "\n",
        "\n",
        "x_1d = np.linspace(0, (Nx-1)*dx, Nx)\n",
        "y_1d = np.linspace(0, (Ny-1)*dy, Ny)\n",
        "z_1d = np.linspace(0, (Nz-1)*dz, Nz)\n",
        "X, Y, Z = np.meshgrid(x_1d, y_1d, z_1d, indexing='ij')\n",
        "\n",
        "f1 = np.sin(X) * np.cos(Y) * np.exp(Z)\n",
        "f2 = np.sin(X) * np.cos(Y) * np.exp(Z)\n",
        "f3 = np.sin(X) * np.cos(Y) * np.exp(Z)\n",
        "f4 = np.sin(X) * np.cos(Y) * np.exp(Z)\n",
        "g1=0*(np.sin(X) * np.cos(Y) * np.exp(Z))+1\n",
        "g2=0*(np.sin(X) * np.cos(Y) * np.exp(Z))+1\n",
        "g3=0*(np.sin(X) * np.cos(Y) * np.exp(Z))+1\n",
        "g4=0*(np.sin(X) * np.cos(Y) * np.exp(Z))\n",
        "g5=0*(np.sin(X) * np.cos(Y) * np.exp(Z))\n",
        "g6=0*(np.sin(X) * np.cos(Y) * np.exp(Z))\n",
        "\n",
        "g7=0*(np.sin(X) * np.cos(Y) * np.exp(Z))\n",
        "g8=0*(np.sin(X) * np.cos(Y) * np.exp(Z))\n",
        "g9=0*(np.sin(X) * np.cos(Y) * np.exp(Z))\n",
        "g10=0*(np.sin(X) * np.cos(Y) * np.exp(Z))\n",
        "g11=0*(np.sin(X) * np.cos(Y) * np.exp(Z))\n",
        "g12=0*(np.sin(X) * np.cos(Y) * np.exp(Z))\n",
        "\n",
        "numfields=10 #4+6 last six for christoffles eveywehere.\n",
        "\n",
        "\n",
        "#all derivatives data for all scalar functions, no loop needed, roll arrays do the work. 3 3 3 laplcacian\n",
        "everything=[np.zeros((numfields)),np.zeros((50,50,50)),np.zeros((50,50,50)),np.zeros((50,50,50)),np.zeros((50,50,50)),np.zeros((50,50,50)),np.zeros((50,50,50)),np.zeros((50,50,50)),np.zeros((50,50,50)),np.zeros((50,50,50)),np.zeros((50,50,50))]\n",
        "\n",
        "\n",
        "#More, metrics etc? 4+\n",
        "fall=[f1,f2,f3,f4,g1,g2,g3,g4,g5,g6,g7,g8,g9,g10,g11,g12]\n",
        "\n",
        "for i in list(range(numfields)):\n",
        "\n",
        "  f=fall[i]\n",
        "\n",
        "\n",
        "  dfdx = (np.roll(f, -1, axis=0) - np.roll(f, 1, axis=0)) / (2.0 * dx)\n",
        "  dfdy = (np.roll(f, -1, axis=1) - np.roll(f, 1, axis=1)) / (2.0 * dy)\n",
        "  dfdz = (np.roll(f, -1, axis=2) - np.roll(f, 1, axis=2)) / (2.0 * dz)\n",
        "\n",
        "\n",
        "  d2fdxdy = (\n",
        "  np.roll(np.roll(f, -1, axis=0), -1, axis=1) +\n",
        "  np.roll(np.roll(f, 1, axis=0), 1, axis=1) -\n",
        "  np.roll(np.roll(f, -1, axis=0), 1, axis=1) -\n",
        "  np.roll(np.roll(f, 1, axis=0), -1, axis=1)\n",
        "  ) / (4.0 * dx * dy)\n",
        "\n",
        "\n",
        "  d2fdxdz = (\n",
        "  np.roll(np.roll(f, -1, axis=0), -1, axis=2) +\n",
        "  np.roll(np.roll(f, 1, axis=0), 1, axis=2) -\n",
        "  np.roll(np.roll(f, -1, axis=0), 1, axis=2) -\n",
        "  np.roll(np.roll(f, 1, axis=0), -1, axis=2)\n",
        "  ) / (4.0 * dx * dz)\n",
        "\n",
        "\n",
        "  d2fdydz = (\n",
        "  np.roll(np.roll(f, -1, axis=1), -1, axis=2) +\n",
        "  np.roll(np.roll(f, 1, axis=1), 1, axis=2) -\n",
        "  np.roll(np.roll(f, -1, axis=1), 1, axis=2) -\n",
        "  np.roll(np.roll(f, 1, axis=1), -1, axis=2)\n",
        "  ) / (4.0 * dy * dz)\n",
        "\n",
        "\n",
        "  d2fdx2 = (np.roll(f, -1, axis=0) - 2.0*f + np.roll(f, 1, axis=0)) / (dx*dx)\n",
        "  d2fdy2 = (np.roll(f, -1, axis=1) - 2.0*f + np.roll(f, 1, axis=1)) / (dy*dy)\n",
        "  d2fdz2 = (np.roll(f, -1, axis=2) - 2.0*f + np.roll(f, 1, axis=2)) / (dz*dz)\n",
        "\n",
        "\n",
        "  laplacian_f = d2fdx2 + d2fdy2 + d2fdz2\n",
        "\n",
        "  #all lap data for each scalar function.\n",
        "  everything[i]= [dfdx,dfdy,dfdz,d2fdxdy,d2fdxdz,d2fdydz,d2fdx2,d2fdy2,d2fdz2,laplacian_f]\n",
        "\n",
        "#FULL GRUD OBJECTS\n",
        "#laplacian\n",
        "#np.shape(d2fdx2) = 50,50,50\n",
        "\n",
        "\n",
        "\n",
        "\n"
      ]
    },
    {
      "cell_type": "code",
      "source": [
        "#check\n",
        "np.shape(everything[0])\n",
        "\n",
        "np.shape(everything[2])\n"
      ],
      "metadata": {
        "id": "tllt4igaI_v3",
        "outputId": "6140722f-8f60-4381-e9bf-f68936434bba",
        "colab": {
          "base_uri": "https://localhost:8080/",
          "height": 188
        }
      },
      "execution_count": 19,
      "outputs": [
        {
          "output_type": "error",
          "ename": "TypeError",
          "evalue": "list indices must be integers or slices, not tuple",
          "traceback": [
            "\u001b[0;31m---------------------------------------------------------------------------\u001b[0m",
            "\u001b[0;31mTypeError\u001b[0m                                 Traceback (most recent call last)",
            "\u001b[0;32m<ipython-input-19-7a41e8d9ebf0>\u001b[0m in \u001b[0;36m<cell line: 0>\u001b[0;34m()\u001b[0m\n\u001b[1;32m      4\u001b[0m \u001b[0mnp\u001b[0m\u001b[0;34m.\u001b[0m\u001b[0mshape\u001b[0m\u001b[0;34m(\u001b[0m\u001b[0meverything\u001b[0m\u001b[0;34m[\u001b[0m\u001b[0;36m2\u001b[0m\u001b[0;34m]\u001b[0m\u001b[0;34m)\u001b[0m\u001b[0;34m\u001b[0m\u001b[0;34m\u001b[0m\u001b[0m\n\u001b[1;32m      5\u001b[0m \u001b[0;34m\u001b[0m\u001b[0m\n\u001b[0;32m----> 6\u001b[0;31m \u001b[0meverything\u001b[0m\u001b[0;34m[\u001b[0m\u001b[0;36m2\u001b[0m\u001b[0;34m]\u001b[0m\u001b[0;34m[\u001b[0m\u001b[0;36m1\u001b[0m\u001b[0;34m:\u001b[0m\u001b[0;36m3\u001b[0m\u001b[0;34m]\u001b[0m\u001b[0;34m[\u001b[0m\u001b[0;36m1\u001b[0m\u001b[0;34m,\u001b[0m\u001b[0;36m1\u001b[0m\u001b[0;34m,\u001b[0m\u001b[0;36m1\u001b[0m\u001b[0;34m]\u001b[0m\u001b[0;34m\u001b[0m\u001b[0;34m\u001b[0m\u001b[0m\n\u001b[0m",
            "\u001b[0;31mTypeError\u001b[0m: list indices must be integers or slices, not tuple"
          ]
        }
      ]
    },
    {
      "cell_type": "code",
      "source": [
        "#STRESS ENERGY TENSOR IN TERMS OF KNOWN DERIVATIVES\n",
        "\n",
        "# Parameters\n",
        "# ----------\n",
        "# phi, phi_star : float\n",
        "#     The complex field values (real and imaginary parts combined in phi, phi_star).\n",
        "#     Here we treat them as scalars at a single grid point or a single slice in time.\n",
        "\n",
        "\n",
        "\n",
        "\n",
        "#In LOOP at CO-ORD, with all derivatives.\n",
        "co1,co2,co3=1,1,1\n",
        "\n",
        "phi=0\n",
        "phi_star=0\n",
        "pi_phi=0\n",
        "pi_phi_star=0\n",
        "\n",
        "\n",
        "\n",
        "\n",
        "\n",
        "\n",
        "\n",
        "\n",
        "#fall is the values f,g\n",
        "phi=fall[0][co1,co2,co3]\n",
        "phi_star=fall[1][co1,co2,co3]\n",
        "\n",
        "pi_phi=fall[2][co1,co2,co3]\n",
        "pi_phi_star=fall[3][co1,co2,co3]\n",
        "\n",
        "#everything is the dericatives\n",
        "grad_phi=np.array((everything[0][0][co1,co2,co3],everything[0][1][co1,co2,co3],everything[0][2][co1,co2,co3]))\n",
        "grad_phi_star=np.array((everything[1][0][co1,co2,co3],everything[1][1][co1,co2,co3],everything[1][2][co1,co2,co3]))\n",
        "\n",
        "\n",
        "\n",
        "#METRIC DATA //HERE//+_+_+_+_+_+_+_+_+_+_+_+_+_+_+_+_+_+_+_+_+_+_+_+_+_+_+_+_+_+_+_+_+_+_+_+_+_+_+_+_+_+_+\n",
        "g11=fall[4][co1,co2,co3]\n",
        "g22=fall[5][co1,co2,co3]\n",
        "g33=fall[6][co1,co2,co3]\n",
        "g12=fall[7][co1,co2,co3]\n",
        "g13=fall[8][co1,co2,co3]\n",
        "g23=fall[9][co1,co2,co3]\n",
        "pig11=fall[10][co1,co2,co3]\n",
        "pig22=fall[11][co1,co2,co3]\n",
        "pig33=fall[12][co1,co2,co3]\n",
        "pig12=fall[13][co1,co2,co3]\n",
        "pig13=fall[14][co1,co2,co3]\n",
        "pig23=fall[15][co1,co2,co3]\n",
        "pi_up=np.array(((pig11,pig12,g13),(pig12,pig22,pig23),(pig13,pig23,pig33)))# pi_up    : array for π^i^j (shape (3,3)) #METRIC CONJUGATE up index\n",
        "gamma_dn=np.array(((g11,g12,g13),(g12,g22,g23),(g13,g23,g33)))# gamma_dn : array for γ_i_j  (shape (3,3)) down index\n",
        "\n",
        "\n",
        "# Compute determinant and hence sqrt_gamma:\n",
        "det_gamma = np.linalg.det(gamma_dn)\n",
        "sqrt_gamma = np.sqrt(det_gamma)\n",
        "\n",
        "gamma_up   = np.linalg.inv(gamma_dn)   # γ^i^j\n",
        "det_gamma  = np.linalg.det(gamma_dn)   # det(γ_i_j)\n",
        "\n",
        "\n",
        "\n",
        "\n",
        "\n",
        "#CHRISTOFFELS\n",
        "\n",
        "#GAMMA_upi_downkl= 0.5*gamma_upeinsumtimes(gdownmkdl+gdownmldk-gdownkldm)\n",
        "\n",
        "\n",
        "#-------------------------------\n",
        "\n",
        "# # Sample metric tensor (replace with your actual metric)\n",
        "# g = np.array([[1, 0, 0, 0],\n",
        "#               [0, -1, 0, 0],\n",
        "#               [0, 0, -1, 0],\n",
        "#               [0, 0, 0, -1]])\n",
        "\n",
        "# # Calculate Christoffel symbols (example - you'll need a more comprehensive implementation)\n",
        "# # For simplicity, we'll assume a flat space (Minkowski)\n",
        "# # Γνρ^μ = 0\n",
        "# Gamma = np.zeros((4, 4, 4))\n",
        "\n",
        "# # Calculate Ricci tensor\n",
        "# R = np.zeros((4, 4))\n",
        "# R = np.einsum('vpr, v -> vr', Gamma, 0) - np.einsum('vpr, v -> vr', Gamma, 0) - np.einsum('vpr, vr, vs -> vrs', Gamma, Gamma, Gamma) + np.einsum('vpr, vr, vs -> vrs', Gamma, Gamma, Gamma)\n",
        "\n",
        "# # Calculate Ricci scalar\n",
        "# R_scalar = np.einsum('uv, uv -> ', g, R)\n",
        "\n",
        "# print(\"Ricci Tensor:\\n\", R)\n",
        "# print(\"Ricci Scalar:\", R_scalar)\n",
        "\n",
        "\n",
        "\n",
        "\n",
        "\n",
        "\n",
        "\n",
        "#EINSUM++++++++++++++++++++++++++++++++++++++++++++++++++++++++++++++++++++++++++++++++++++++++++++++++++++++++++++++++++++++++++++++++++++++++++++++++++++++++++++++++++++++++++\n",
        "#Fast FR:\n",
        "R_up=np.array(((1,0,0),(0,1,0),(0,0,1)))# R_up     : array for R^i^j (shape (3,3)) #FIND FROM EINSUM...\n",
        "R=0# R        : scalar for 3D Ricci scalar   #FIND FROM EINSUM...\n",
        "\n",
        "\n",
        "\n",
        "\n",
        "\n",
        "\n",
        "#SCALAR POTENTIAL-----------------------------\n",
        "def V(phi):\n",
        "  return phi**2- phi**3 + phi**4\n",
        "#SCALAR POTENTIAL-----------------------------\n",
        "\n",
        "V_value= V(phi)\n",
        "\n",
        "\n",
        "\n",
        "\n",
        "# pi_phi, pi_phi_star : float\n",
        "#     Canonical momenta conjugate to phi and phi*, respectively.\n",
        "\n",
        "# grad_phi, grad_phi_star : ndarray of shape (3,)\n",
        "#     Spatial derivatives of phi and phi*, i.e. (∂₁ φ, ∂₂ φ, ∂₃ φ), etc.\n",
        "\n",
        "# gamma_dn : ndarray of shape (3,3)\n",
        "#     The 3-metric γᵢⱼ on the spatial slice.\n",
        "\n",
        "# gamma_up : ndarray of shape (3,3)\n",
        "#     The inverse 3-metric, (γ⁻¹)ⁱʲ.\n",
        "\n",
        "# V_value : float\n",
        "#     The scalar potential V(φ, φ*), evaluated at the current φ, φ*.\n",
        "\n",
        "# Returns\n",
        "# -------\n",
        "# T00 : float\n",
        "#     The component T^0^0.\n",
        "\n",
        "# T0i : ndarray of shape (3,)\n",
        "#     The components T^0^i.\n",
        "\n",
        "# Tij : ndarray of shape (3,3)\n",
        "#     The components T^i^j.\n",
        "\n",
        "\n",
        "\n",
        "# Time derivatives in synchronous gauge:\n",
        "#   d0phi = pi_phi / sqrt_gamma,  d0phi_star = pi_phi_star / sqrt_gamma\n",
        "d0phi      = pi_phi      / sqrt_gamma\n",
        "d0phi_star = pi_phi_star / sqrt_gamma\n",
        "\n",
        "# 1) T^0^0 = 2(d0phi_star * d0phi) - gamma_up^ij * (∂ᵢphi_star)(∂ⱼphi) - V\n",
        "T00 = 2.0 * (d0phi_star * d0phi) \\\n",
        "      - np.einsum('ij,i,j', gamma_up, grad_phi_star, grad_phi) \\\n",
        "      - V_value\n",
        "\n",
        "# 2) T^0^i\n",
        "#    = - g^{i j} [ d0phi_star * (∂ⱼ φ) + d0phi * (∂ⱼ φ*) ]\n",
        "#    = - gamma_up[i, j] ( d0phi_star grad_phi[j] + d0phi grad_phi_star[j] )\n",
        "# (Will be a 3-vector)\n",
        "T0i = - np.einsum(\n",
        "    'ij,j->i',\n",
        "    gamma_up,\n",
        "    d0phi_star * grad_phi + d0phi * grad_phi_star\n",
        ")\n",
        "\n",
        "# 3) T^i^j\n",
        "#    = (∂^i φ*)(∂^j φ) + (∂^i φ)(∂^j φ*)\n",
        "#      + δ^i^j [ (d0phi_star d0phi) - g^{m n} (∂ₘ φ*)(∂ₙ φ) - V ]\n",
        "#\n",
        "# where ∂^i φ = gamma_up^i^k (∂ₖ φ). Let's form those first:\n",
        "grad_up_phi     = np.einsum('ik,k->i', gamma_up, grad_phi)      # ∂^i φ\n",
        "grad_up_phi_star= np.einsum('ik,k->i', gamma_up, grad_phi_star) # ∂^i φ*\n",
        "\n",
        "# A) The 'spatial-derivative' part: (∂^i φ*)(∂^j φ) + (∂^i φ)(∂^j φ*)\n",
        "Tij_partA = np.einsum('i,j->ij', grad_up_phi_star, grad_up_phi) \\\n",
        "          + np.einsum('i,j->ij', grad_up_phi,      grad_up_phi_star)\n",
        "\n",
        "# B) The “trace” piece:  δ^i^j [ d0phi_star * d0phi - gamma_up^mn grad_phi_star[m] grad_phi[n] - V ]\n",
        "#    We'll build a diagonal piece: (d0phi_star d0phi - ...) * identity_in_3D\n",
        "#    then add them together.\n",
        "spatial_deriv_contract = np.einsum('mn,m,n->', gamma_up, grad_phi_star, grad_phi)  # gamma_up^m^n (∂ₘ φ*)(∂ₙ φ)\n",
        "factor_in_brackets = d0phi_star * d0phi - spatial_deriv_contract - V_value\n",
        "\n",
        "# δ^i^j can be built as the identity matrix:\n",
        "delta_i_j = np.eye(3)\n",
        "\n",
        "Tij_partB = factor_in_brackets * delta_i_j\n",
        "\n",
        "# Summation for final T^i^j:\n",
        "Tij = Tij_partA + Tij_partB\n",
        "\n",
        "#return T00, T0i, Tij\n",
        "\n"
      ],
      "metadata": {
        "id": "b4pgxu9qlY_6"
      },
      "execution_count": 21,
      "outputs": []
    },
    {
      "cell_type": "code",
      "source": [
        "#CONJUGAtE MOMENTA VARIABLES FOR UPDATER\n",
        "\n",
        "\n",
        "\n",
        "\n",
        "#Returns dot_pi_up, an array for the time derivative of π^i^j.\n",
        "\n",
        "# In synchronous gauge, N=1, N^i=0 => H = ∫ d^3x ( π^ij dot(γ_ij) - L ), so\n",
        "# dot_pi_up^ij follows from Hamilton’s equations.  The final schematic form is:\n",
        "#\n",
        "#   dot(pi^ij) = - √γ [ R^ij - ½ R γ^ij ]\n",
        "#                + (1 / √γ) [ π^i_k π^j_l γ^{kl} - ½ (π) π^ij ]\n",
        "#                + ½ √γ T^ij\n",
        "#\n",
        "#   where π = γ_{m n} π^m^n is the “trace” of π^ij.\n",
        "\n",
        "# Compute inverse and determinant of the 3-metric:\n",
        "\n",
        "\n",
        "# --- Term 1:  - √γ ( R^ij - ½ R γ^ij ) ---\n",
        "sqrt_gamma = np.sqrt(det_gamma)\n",
        "term1 = - sqrt_gamma * (R_up - 0.5 * R * gamma_up) #Ricci Terms\n",
        "\n",
        "# --- Term 2:  (1 / √γ) [ π^i_k π^j_l γ^{kl} - ½ (π) π^ij ] ---\n",
        "# First compute π = γ_{m n} π^m^n, the “trace” of π^ij:\n",
        "trace_pi = np.einsum('mn,mn->', gamma_dn, pi_up)   # γ_{m n} π^{m n}\n",
        "\n",
        "# The product π^i_k π^j_l γ^{k l} involves index gymnastics; a direct way:\n",
        "# (π^i_k) = (γ_dn)_{k u} times pi_up^{i u} or vice versa, etc.\n",
        "# But often one just uses einsum carefully:\n",
        "#\n",
        "#   π^i_k = ∑_m pi_up[i,m] * (some factor putting down m?), etc.\n",
        "#\n",
        "# For brevity we can do it in one shot by noticing that\n",
        "#   π^i_k π^j_l γ^{k l} = einsum('ik,jl,kl->ij', pi_i^k, pi_j^l, γ^k^l),\n",
        "# but if pi_up is stored as π^i^j we need to “lower” one index.\n",
        "#\n",
        "# The snippet below is schematic:  We define pi_i_k by contracting with γ_dn:\n",
        "pi_i_k = np.einsum('ia,ak->ik', gamma_dn, pi_up)  # lowers first index of pi_up\n",
        "pi_j_l = np.einsum('ja,al->jl', gamma_dn, pi_up)  # lowers first index of pi_up\n",
        "# Then contract with gamma_up:\n",
        "term2A = np.einsum('ik,jl,kl->ij', pi_i_k, pi_j_l, gamma_up)\n",
        "\n",
        "# Now minus (½ π) π^i^j:\n",
        "term2B = -0.5 * trace_pi * pi_up\n",
        "\n",
        "# Combine them, scaling by 1 / √γ:\n",
        "term2 = (1.0 / sqrt_gamma) * (term2A + term2B)  #Pi Pi- GRAV GRAV------------------------------------------------------------\n",
        "\n",
        "# --- Term 3:  ½ √γ T^ij ---\n",
        "term3 = 0.5 * sqrt_gamma * T_up #TUP----------------------------------------------------------------------------------------------\n",
        "\n",
        "# Sum everything to get dot_pi^i^j:\n",
        "dot_pi_up = term1 + term2 + term3"
      ],
      "metadata": {
        "id": "kojejWBca6u0"
      },
      "execution_count": null,
      "outputs": []
    },
    {
      "cell_type": "code",
      "source": [
        "#SYMPLECTIC INTEGRATOR\n",
        "\n",
        "\n",
        "import numpy as np\n",
        "\n",
        "# Parameters\n",
        "dt = 0.01  # Time step\n",
        "Nx, Ny = 50, 50  # 2D Grid size simplification\n",
        "dx, dy = 0.1, 0.1  # Grid spacing\n",
        "\n",
        "# Scalar field potential, user-defined\n",
        "def scalar_potential(phi):\n",
        "    \"\"\"Potential function V for the scalar field, e.g., simple quadratic.\"\"\"\n",
        "    return 0.5 * phi**2\n",
        "\n",
        "# Metric components and conjugate momenta\n",
        "gamma = np.zeros((Nx, Ny, 2, 2))  # 2D simplification for metric tensor\n",
        "gamma[:, :, 0, 0] = 1.0\n",
        "gamma[:, :, 1, 1] = 1.0\n",
        "K = np.zeros_like(gamma)  # Extrinsic curvature:\n",
        "\n",
        "# Scalar field and its conjugate momentum\n",
        "phi = np.zeros((Nx, Ny))  # Scalar field\n",
        "Pi = np.zeros((Nx, Ny))  # Conjugate momentum of scalar field\n",
        "\n",
        "# Initial data for two boson stars\n",
        "def init_boson_star(x0, y0, width, magnitude):\n",
        "    x = np.linspace(-5, 5, Nx)\n",
        "    y = np.linspace(-5, 5, Ny)\n",
        "    X, Y = np.meshgrid(x, y, indexing='ij')\n",
        "    return magnitude * np.exp(-((X-x0)**2 + (Y-y0)**2) / (2*width**2))\n",
        "\n",
        "phi += init_boson_star(-1.0, 0.0, 1.0, 0.5)\n",
        "phi += init_boson_star(1.0, 0.0, 1.0, 0.5)\n",
        "\n",
        "# Update functions\n",
        "def evolve_momenta(gamma, K, phi, Pi, dt):\n",
        "    \"\"\"Evolve the extrinsic curvature (conjugate momenta) by updating K.\"\"\"\n",
        "    # Placeholder: Evolve using equations of motion derived from Einstein equations;\n",
        "    # actual implementation would involve solving constraint equations.\n",
        "    lap_phi = (np.roll(phi, 1, axis=0) + np.roll(phi, -1, axis=0) + np.roll(phi, 1, axis=1) + np.roll(phi, -1, axis=1) - 4 * phi) / (dx**2)\n",
        "\n",
        "\n",
        "\n",
        "\n",
        "\n",
        "    K_new = K + dt * lap_phi  # Simplified placeholder - should include contributions from stress-energy tensor\n",
        "    return K_new\n",
        "\n",
        "def evolve_metric(gamma, K, dt):\n",
        "    \"\"\"Use ADM equations to evolve the spatial metric tensor.\"\"\"\n",
        "    gamma_new = gamma + dt * 2 * K\n",
        "    return gamma_new\n",
        "\n",
        "def evolve_scalar_field(phi, Pi, gamma, dt):\n",
        "    \"\"\"Evolve the scalar field and its momentum.\"\"\"\n",
        "    # Actual implementation would involve Klein-Gordon evolution equation in perturbed spacetime\n",
        "    grad_Pi = (np.roll(Pi, 1, axis=0) - np.roll(Pi, -1, axis=0)) / (2 * dx)\n",
        "    Pi_new = Pi + dt * (scalar_potential(phi) - grad_Pi)  # Placeholder update\n",
        "    phi_new = phi + dt * Pi_new\n",
        "    return phi_new, Pi_new\n",
        "\n",
        "# Main evolution loop\n",
        "num_steps = 100\n",
        "for step in range(num_steps):\n",
        "    K = evolve_momenta(gamma, K, phi, Pi, dt)\n",
        "    gamma = evolve_metric(gamma, K, dt)\n",
        "    phi, Pi = evolve_scalar_field(phi, Pi, gamma, dt)\n",
        "\n",
        "# Note: This example is very simplified and lacks the comprehensive features needed in a full simulation.\n",
        "\n",
        "\n",
        "\n"
      ],
      "metadata": {
        "colab": {
          "base_uri": "https://localhost:8080/"
        },
        "id": "aDLwr0Hia600",
        "outputId": "9d814741-a43c-4cec-ee58-7ed2e9e948d8"
      },
      "execution_count": null,
      "outputs": [
        {
          "output_type": "execute_result",
          "data": {
            "text/plain": [
              "array([[[-8.82619196e+01, -9.75445067e+01, -1.07803352e+02, ...,\n",
              "         -9.70414849e+03, -1.07247427e+04, -1.18526737e+04],\n",
              "        [-8.78209776e+01, -9.70571905e+01, -1.07264784e+02, ...,\n",
              "         -9.65566817e+03, -1.06711637e+04, -1.17934597e+04],\n",
              "        [-8.65025575e+01, -9.56001109e+01, -1.05654462e+02, ...,\n",
              "         -9.51071161e+03, -1.05109619e+04, -1.16164094e+04],\n",
              "        ...,\n",
              "        [ 1.09344722e+00,  1.20844607e+00,  1.33553945e+00, ...,\n",
              "          1.20221430e+02,  1.32865228e+02,  1.46838786e+02],\n",
              "        [-7.72282824e+00, -8.53504518e+00, -9.43268371e+00, ...,\n",
              "         -8.49103128e+02, -9.38404084e+02, -1.03709690e+03],\n",
              "        [-1.64619398e+01, -1.81932571e+01, -2.01066586e+01, ...,\n",
              "         -1.80994373e+03, -2.00029717e+03, -2.21067026e+03]],\n",
              "\n",
              "       [[ 1.32345642e+03, -9.03038881e+00, -9.98012309e+00, ...,\n",
              "         -8.98382050e+02, -9.92865715e+02, -2.56896225e+03],\n",
              "        [ 1.32487577e+03, -1.09507359e-01, -1.21024349e-01, ...,\n",
              "         -1.08942647e+01, -1.20400245e+01, -1.47762997e+03],\n",
              "        [ 1.30498596e+03, -1.07863371e-01, -1.19207460e-01, ...,\n",
              "         -1.07307136e+01, -1.18592726e+01, -1.45544692e+03],\n",
              "        ...,\n",
              "        [-1.64958506e+01,  1.36346145e-03,  1.50685794e-03, ...,\n",
              "          1.35643029e-01,  1.49908731e-01,  1.83977726e+01],\n",
              "        [ 1.16507335e+02, -9.62989197e-03, -1.06426766e-02, ...,\n",
              "         -9.58023213e-01, -1.05877939e+00, -1.29940280e+02],\n",
              "        [ 2.55497863e+02,  7.88304218e+00,  8.71210896e+00, ...,\n",
              "          7.84239056e+02,  8.66718197e+02,  6.83385981e+02]],\n",
              "\n",
              "       [[ 2.63368930e+03, -1.79705490e+01, -1.98605281e+01, ...,\n",
              "         -1.78778776e+03, -1.97581104e+03, -5.11225627e+03],\n",
              "        [ 2.63651383e+03, -2.17920557e-01, -2.40839463e-01, ...,\n",
              "         -2.16796775e+01, -2.39597491e+01, -2.94049595e+03],\n",
              "        [ 2.59693293e+03, -2.14649006e-01, -2.37223839e-01, ...,\n",
              "         -2.13542095e+01, -2.36000513e+01, -2.89635149e+03],\n",
              "        ...,\n",
              "        [-3.28268802e+01,  2.71329964e-03,  2.99865986e-03, ...,\n",
              "          2.69930758e-01,  2.98319624e-01,  3.66117208e+01],\n",
              "        [ 2.31850567e+02, -1.91635652e-02, -2.11790150e-02, ...,\n",
              "         -1.90647417e+00, -2.10697981e+00, -2.58582240e+02],\n",
              "        [ 5.08442875e+02,  1.56873196e+01,  1.73371694e+01, ...,\n",
              "          1.56064225e+03,  1.72477643e+03,  1.35994379e+03]],\n",
              "\n",
              "       ...,\n",
              "\n",
              "       [[-1.32556302e+04,  9.04476286e+01,  9.99600888e+01, ...,\n",
              "          8.99812043e+03,  9.94446102e+03,  2.57305137e+04],\n",
              "        [-1.32698464e+04,  1.09681667e+00,  1.21216989e+00, ...,\n",
              "          1.09116056e+02,  1.20591891e+02,  1.47998198e+04],\n",
              "        [-1.30706316e+04,  1.08035061e+00,  1.19397208e+00, ...,\n",
              "          1.07477941e+02,  1.18781495e+02,  1.45776362e+04],\n",
              "        ...,\n",
              "        [ 1.65221078e+02, -1.36563173e-02, -1.50925647e-02, ...,\n",
              "         -1.35858938e+00, -1.50147347e+00, -1.84270572e+02],\n",
              "        [-1.16692785e+03,  9.64522028e-02,  1.06596170e-01, ...,\n",
              "          9.59548139e+00,  1.06046470e+01,  1.30147112e+03],\n",
              "        [-2.55904550e+03, -7.89558995e+01, -8.72597639e+01, ...,\n",
              "         -7.85487363e+03, -8.68097790e+03, -6.84473755e+03]],\n",
              "\n",
              "       [[-1.32058031e+04,  9.01076417e+01,  9.95843451e+01, ...,\n",
              "          8.96429707e+03,  9.90708042e+03,  2.56337944e+04],\n",
              "        [-1.32199658e+04,  1.09269380e+00,  1.20761341e+00, ...,\n",
              "          1.08705895e+02,  1.20138594e+02,  1.47441882e+04],\n",
              "        [-1.30214999e+04,  1.07628964e+00,  1.18948401e+00, ...,\n",
              "          1.07073939e+02,  1.18335003e+02,  1.45228397e+04],\n",
              "        ...,\n",
              "        [ 1.64600022e+02, -1.36049841e-02, -1.50358327e-02, ...,\n",
              "         -1.35348253e+00, -1.49582953e+00, -1.83577910e+02],\n",
              "        [-1.16254144e+03,  9.60896451e-02,  1.06195481e-01, ...,\n",
              "          9.55941258e+00,  1.05647848e+01,  1.29657897e+03],\n",
              "        [-2.54942620e+03, -7.86591092e+01, -8.69317600e+01, ...,\n",
              "         -7.82534765e+03, -8.64834665e+03, -6.81900861e+03]],\n",
              "\n",
              "       [[-1.29281356e+04,  1.94844851e+02,  2.15336863e+02, ...,\n",
              "          1.93840067e+04,  2.14226404e+04,  3.81583235e+04],\n",
              "        [-1.29425824e+04,  1.06525729e+02,  1.17729138e+02, ...,\n",
              "          1.05976392e+04,  1.17122027e+04,  2.73542772e+04],\n",
              "        [-1.27482808e+04,  1.04926502e+02,  1.15961719e+02, ...,\n",
              "          1.04385413e+04,  1.15363722e+04,  2.69436188e+04],\n",
              "        ...,\n",
              "        [ 1.61146359e+02, -1.32633757e+00, -1.46582971e+00, ...,\n",
              "         -1.31949785e+02, -1.45827066e+02, -3.40584439e+02],\n",
              "        [-1.13814881e+03,  9.36769244e+00,  1.03529013e+01, ...,\n",
              "          9.31938472e+02,  1.02995130e+03,  2.40548888e+03],\n",
              "        [-2.49644877e+03, -5.78102644e+01, -6.38902230e+01, ...,\n",
              "         -5.75121459e+03, -6.35607511e+03, -4.32335705e+03]]])"
            ]
          },
          "metadata": {},
          "execution_count": 13
        }
      ]
    },
    {
      "cell_type": "code",
      "source": [
        "\n",
        "\n",
        "\n",
        "\n"
      ],
      "metadata": {
        "id": "1fhQ-uE4a63U"
      },
      "execution_count": null,
      "outputs": []
    },
    {
      "cell_type": "code",
      "source": [],
      "metadata": {
        "id": "F9ybVXEaa65q"
      },
      "execution_count": null,
      "outputs": []
    },
    {
      "cell_type": "code",
      "source": [],
      "metadata": {
        "id": "1_tR_mLca67q"
      },
      "execution_count": null,
      "outputs": []
    },
    {
      "cell_type": "code",
      "source": [],
      "metadata": {
        "id": "A4vm1_Hta69-"
      },
      "execution_count": null,
      "outputs": []
    },
    {
      "cell_type": "code",
      "source": [],
      "metadata": {
        "id": "-DJ0hTKwa6__"
      },
      "execution_count": null,
      "outputs": []
    },
    {
      "cell_type": "code",
      "source": [],
      "metadata": {
        "id": "JsysMP6sa7GF"
      },
      "execution_count": null,
      "outputs": []
    },
    {
      "cell_type": "code",
      "source": [],
      "metadata": {
        "id": "W6dNCwrDa7Kl"
      },
      "execution_count": null,
      "outputs": []
    },
    {
      "cell_type": "code",
      "source": [],
      "metadata": {
        "id": "lyWEsx2qa7Mx"
      },
      "execution_count": null,
      "outputs": []
    },
    {
      "cell_type": "code",
      "source": [],
      "metadata": {
        "id": "-fCR7HcNa7PS"
      },
      "execution_count": null,
      "outputs": []
    },
    {
      "cell_type": "code",
      "source": [],
      "metadata": {
        "id": "LpzF48iia7Rt"
      },
      "execution_count": null,
      "outputs": []
    },
    {
      "cell_type": "code",
      "source": [],
      "metadata": {
        "id": "dFv4OfYwa7Tz"
      },
      "execution_count": null,
      "outputs": []
    },
    {
      "cell_type": "code",
      "source": [],
      "metadata": {
        "id": "INyoqct-a7V6"
      },
      "execution_count": null,
      "outputs": []
    },
    {
      "cell_type": "code",
      "source": [],
      "metadata": {
        "id": "M2jMxQq5a7Yb"
      },
      "execution_count": null,
      "outputs": []
    },
    {
      "cell_type": "code",
      "source": [],
      "metadata": {
        "id": "IoEMtsnXa7a9"
      },
      "execution_count": null,
      "outputs": []
    },
    {
      "cell_type": "code",
      "source": [],
      "metadata": {
        "id": "-zImoTr1a7c-"
      },
      "execution_count": null,
      "outputs": []
    },
    {
      "cell_type": "code",
      "source": [],
      "metadata": {
        "id": "5bZ5Uivfa7fS"
      },
      "execution_count": null,
      "outputs": []
    },
    {
      "cell_type": "code",
      "source": [],
      "metadata": {
        "id": "cef8Pc9ia7hj"
      },
      "execution_count": null,
      "outputs": []
    },
    {
      "cell_type": "code",
      "source": [],
      "metadata": {
        "id": "l51LQwhka7j4"
      },
      "execution_count": null,
      "outputs": []
    },
    {
      "cell_type": "code",
      "source": [],
      "metadata": {
        "id": "u8cobWika7oq"
      },
      "execution_count": null,
      "outputs": []
    },
    {
      "cell_type": "code",
      "source": [],
      "metadata": {
        "id": "XRM9ft82a5_2"
      },
      "execution_count": null,
      "outputs": []
    },
    {
      "cell_type": "code",
      "source": [],
      "metadata": {
        "id": "0sUC2NcYa6CB"
      },
      "execution_count": null,
      "outputs": []
    },
    {
      "cell_type": "code",
      "source": [],
      "metadata": {
        "id": "pOw5TtUba6D5"
      },
      "execution_count": null,
      "outputs": []
    },
    {
      "cell_type": "code",
      "source": [],
      "metadata": {
        "id": "AcIHVvkta6GK"
      },
      "execution_count": null,
      "outputs": []
    },
    {
      "cell_type": "code",
      "source": [],
      "metadata": {
        "id": "ykdCY4uSa6IJ"
      },
      "execution_count": null,
      "outputs": []
    },
    {
      "cell_type": "code",
      "source": [],
      "metadata": {
        "id": "We5muxy-a6MD"
      },
      "execution_count": null,
      "outputs": []
    },
    {
      "cell_type": "code",
      "source": [],
      "metadata": {
        "id": "7kPe95k0a6Op"
      },
      "execution_count": null,
      "outputs": []
    },
    {
      "cell_type": "code",
      "source": [],
      "metadata": {
        "id": "JRAeBvYxiS7-"
      },
      "execution_count": null,
      "outputs": []
    },
    {
      "cell_type": "code",
      "source": [],
      "metadata": {
        "id": "NdHr4h-miS-H"
      },
      "execution_count": null,
      "outputs": []
    },
    {
      "cell_type": "code",
      "source": [],
      "metadata": {
        "id": "oSQNFMpviTAf"
      },
      "execution_count": null,
      "outputs": []
    },
    {
      "cell_type": "code",
      "source": [],
      "metadata": {
        "id": "n7zTo80liTCr"
      },
      "execution_count": null,
      "outputs": []
    }
  ]
}